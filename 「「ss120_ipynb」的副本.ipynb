{
  "cells": [
    {
      "cell_type": "markdown",
      "metadata": {
        "id": "view-in-github",
        "colab_type": "text"
      },
      "source": [
        "<a href=\"https://colab.research.google.com/github/qqj147258/14.0.0-arm64/blob/main/%E3%80%8C%E3%80%8Css120_ipynb%E3%80%8D%E7%9A%84%E5%89%AF%E6%9C%AC.ipynb\" target=\"_parent\"><img src=\"https://colab.research.google.com/assets/colab-badge.svg\" alt=\"Open In Colab\"/></a>"
      ]
    },
    {
      "cell_type": "code",
      "execution_count": null,
      "metadata": {
        "colab": {
          "base_uri": "https://localhost:8080/"
        },
        "id": "yjV9-vR37O4Q",
        "outputId": "46e657a6-366d-4591-ef6f-735311be39f1"
      },
      "outputs": [
        {
          "output_type": "stream",
          "name": "stdout",
          "text": [
            "Collecting pyaes\n",
            "  Downloading pyaes-1.6.1.tar.gz (28 kB)\n",
            "  Preparing metadata (setup.py) ... \u001b[?25l\u001b[?25hdone\n",
            "Building wheels for collected packages: pyaes\n",
            "  Building wheel for pyaes (setup.py) ... \u001b[?25l\u001b[?25hdone\n",
            "  Created wheel for pyaes: filename=pyaes-1.6.1-py3-none-any.whl size=26346 sha256=1011fc0eb4208294222eb6fa0a084008ae85ebec3cf9ff19c488dd12bec873d1\n",
            "  Stored in directory: /root/.cache/pip/wheels/d6/84/5f/ea6aef85a93c7e1922486369874f4740a5642d261e09c59140\n",
            "Successfully built pyaes\n",
            "Installing collected packages: pyaes\n",
            "Successfully installed pyaes-1.6.1\n",
            "      H͜͡E͜͡L͜͡L͜͡O͜͡ ͜͡W͜͡O͜͡R͜͡L͜͡D͜͡ ͜͡E͜͡X͜͡T͜͡R͜͡A͜͡C͜͡T͜͡ ͜͡S͜͡S͜͡ ͜͡N͜͡O͜͡D͜͡E͜͡\n",
            "𓆝 𓆟 𓆞 𓆟 𓆝 𓆟 𓆞 𓆟 𓆝 𓆟 𓆞 𓆟\n",
            "Author : 𝐼𝑢\n",
            "Date   : 2024-11-03\n",
            "Version: 1.0\n",
            "𓆝 𓆟 𓆞 𓆟 𓆝 𓆟 𓆞 𓆟 𓆝 𓆟 𓆞 𓆟\n",
            "𝐼𝑢:\n",
            "\n",
            "⠀⠀⠀⠀⠀⠀⠀⠀⠀⠀⠀⢀⡠⠤⠀⠀⠀⠀⠀⠀⠀\n",
            "⠀⠀⠀⠀⠀⠀⠀⠀⠀⠀⡴⠁⠀⡰⠀⠀⠀⠀⠀⠀⠀\n",
            "⠀⠀⠀⠀⠀⠀⠀⠀⢀⡎⢀⠀⠀⠁⠀⠀⠀⠀⠀⠀⠀\n",
            "⣀⠀⠀⠀⠀⠀⠀⡠⠬⡡⠬⡋⠀⡄⠀⠀⠀⠀⠀⠀⠀\n",
            "⡀⠁⠢⡀⠀⠀⢰⠠⢷⠰⠆⡅⠀⡇⠀⠀⠀⣀⠔⠂⡂\n",
            "⠱⡀⠀⠈⠒⢄⡸⡑⠊⢒⣂⣦⠄⢃⢀⠔⠈⠀⠀⡰⠁\n",
            "⠀⠱⡀⠀⠀⡰⣁⣼⡿⡿⢿⠃⠠⠚⠁⠀⠀⢀⠜⠀⠀\n",
            "⠀⠀⠐⢄⠜⠀⠈⠓⠒⠈⠁⠀⠀⠀⠀⠀⡰⠃⠀⠀⠀\n",
            "⠀⠀⢀⠊⡀⠀⠀⠀⠀⠀⠀⠀⠀⠀⠀⠾⡀⠀⠀⠀⠀\n",
            "⠀⠀⢸⣄⠀⠀⡀⠀⠀⠀⠀⠀⠀⠀⠀⣀⡇⠀⠀⠀⠀\n",
            "⠀⠀⠸⢸⣳⠦⣍⣁⣀⣀⣀⣀⣠⠴⠚⠁⠇⠀⠀⠀⠀\n",
            "⠀⠀⠀⢳⣿⠄⠸⠢⠍⠉⠉⠀⠀⡠⢒⠎⠀⠀⠀⠀⠀\n",
            "⠀⠀⠀⠣⣀⠁⠒⡤⠤⢤⠀⠀⠐⠙⡇⠀⠀⠀⠀⠀⠀\n",
            "⠀⠀⠀⠀⠣⡀⡼⠀⠀⠈⠱⡒⠂⡸⠁⠀⠀⠀⠀⠀⠀\n",
            "⠀⠀⠀⠀⠀⠀⠀⠀⠀⠀⠀⠑⢒⠁⠀⠀⠀⠀⠀⠀⠀\n",
            "\n",
            "ss://YWVzLTI1Ni1jZmI6YW1hem9uc2tyMDVAMTMuMjUwLjMuNDM6NDQz#SG, Singapore\n",
            "ss://YWVzLTI1Ni1jZmI6YW1hem9uc2tyMDVANTQuNjguMTYwLjI0OjQ0Mw==#US, Dallas 2\n",
            "ss://YWVzLTI1Ni1jZmI6YW1hem9uc2tyMDVANTQuMjQ5LjE5Ny42NTo0NDM=#HK, New Territories\n",
            "ss://YWVzLTI1Ni1jZmI6YW1hem9uc2tyMDVANTIuMTAuMzMuMjExOjQ0Mw==#US, Houston\n",
            "ss://YWVzLTI1Ni1jZmI6YW1hem9uc2tyMDVANTIuMTk4LjE5NC4xNzA6NDQz#TW, Taipei\n",
            "ss://YWVzLTI1Ni1jZmI6YW1hem9uc2tyMDVANDQuMjQzLjExNS4yNDY6NDQz#CA, Vancouver\n",
            "ss://YWVzLTI1Ni1jZmI6YW1hem9uc2tyMDVANTQuOTUuNS4xNjg6NDQz#HK, Kowloon\n",
            "ss://YWVzLTI1Ni1jZmI6YW1hem9uc2tyMDVANTcuMTgxLjQyLjE4MTo0NDM=#KR, Incheon\n",
            "ss://YWVzLTI1Ni1jZmI6YW1hem9uc2tyMDVANTIuNjkuMjM2LjEwMjo0NDM=#JP, Tokyo 2\n",
            "ss://YWVzLTI1Ni1jZmI6YW1hem9uc2tyMDVAMTMuMjI5Ljk4Ljg3OjQ0Mw==#JP, Tokyo\n",
            "ss://YWVzLTI1Ni1jZmI6YW1hem9uc2tyMDVANDMuMjAxLjI1NC4yMTE6NDQz#JP, Osaka\n",
            "ss://YWVzLTI1Ni1jZmI6YW1hem9uc2tyMDVAMTguMjQ2LjIzNS4yNDc6NDQz#HK, Los Angeles\n"
          ]
        }
      ],
      "source": [
        "!pip install pyaes\n",
        "import requests\n",
        "import base64\n",
        "import json\n",
        "import pyaes\n",
        "import binascii\n",
        "from datetime import datetime\n",
        "\n",
        "print(\"      H͜͡E͜͡L͜͡L͜͡O͜͡ ͜͡W͜͡O͜͡R͜͡L͜͡D͜͡ ͜͡E͜͡X͜͡T͜͡R͜͡A͜͡C͜͡T͜͡ ͜͡S͜͡S͜͡ ͜͡N͜͡O͜͡D͜͡E͜͡\")\n",
        "print(\"𓆝 𓆟 𓆞 𓆟 𓆝 𓆟 𓆞 𓆟 𓆝 𓆟 𓆞 𓆟\")\n",
        "print(\"Author : 𝐼𝑢\")\n",
        "print(f\"Date   : {datetime.today().strftime('%Y-%m-%d')}\")\n",
        "print(\"Version: 1.0\")\n",
        "print(\"𓆝 𓆟 𓆞 𓆟 𓆝 𓆟 𓆞 𓆟 𓆝 𓆟 𓆞 𓆟\")\n",
        "print(\"𝐼𝑢:\")\n",
        "print(r\"\"\"\n",
        "⠀⠀⠀⠀⠀⠀⠀⠀⠀⠀⠀⢀⡠⠤⠀⠀⠀⠀⠀⠀⠀\n",
        "⠀⠀⠀⠀⠀⠀⠀⠀⠀⠀⡴⠁⠀⡰⠀⠀⠀⠀⠀⠀⠀\n",
        "⠀⠀⠀⠀⠀⠀⠀⠀⢀⡎⢀⠀⠀⠁⠀⠀⠀⠀⠀⠀⠀\n",
        "⣀⠀⠀⠀⠀⠀⠀⡠⠬⡡⠬⡋⠀⡄⠀⠀⠀⠀⠀⠀⠀\n",
        "⡀⠁⠢⡀⠀⠀⢰⠠⢷⠰⠆⡅⠀⡇⠀⠀⠀⣀⠔⠂⡂\n",
        "⠱⡀⠀⠈⠒⢄⡸⡑⠊⢒⣂⣦⠄⢃⢀⠔⠈⠀⠀⡰⠁\n",
        "⠀⠱⡀⠀⠀⡰⣁⣼⡿⡿⢿⠃⠠⠚⠁⠀⠀⢀⠜⠀⠀\n",
        "⠀⠀⠐⢄⠜⠀⠈⠓⠒⠈⠁⠀⠀⠀⠀⠀⡰⠃⠀⠀⠀\n",
        "⠀⠀⢀⠊⡀⠀⠀⠀⠀⠀⠀⠀⠀⠀⠀⠾⡀⠀⠀⠀⠀\n",
        "⠀⠀⢸⣄⠀⠀⡀⠀⠀⠀⠀⠀⠀⠀⠀⣀⡇⠀⠀⠀⠀\n",
        "⠀⠀⠸⢸⣳⠦⣍⣁⣀⣀⣀⣀⣠⠴⠚⠁⠇⠀⠀⠀⠀\n",
        "⠀⠀⠀⢳⣿⠄⠸⠢⠍⠉⠉⠀⠀⡠⢒⠎⠀⠀⠀⠀⠀\n",
        "⠀⠀⠀⠣⣀⠁⠒⡤⠤⢤⠀⠀⠐⠙⡇⠀⠀⠀⠀⠀⠀\n",
        "⠀⠀⠀⠀⠣⡀⡼⠀⠀⠈⠱⡒⠂⡸⠁⠀⠀⠀⠀⠀⠀\n",
        "⠀⠀⠀⠀⠀⠀⠀⠀⠀⠀⠀⠑⢒⠁⠀⠀⠀⠀⠀⠀⠀\n",
        "\"\"\")\n",
        "\n",
        "\n",
        "a = 'http://api.skrapp.net/api/serverlist'\n",
        "b = {\n",
        "    'accept': '/',\n",
        "    'accept-language': 'zh-Hans-CN;q=1, en-CN;q=0.9',\n",
        "    'appversion': '1.3.1',\n",
        "    'user-agent': 'SkrKK/1.3.1 (iPhone; iOS 13.5; Scale/2.00)',\n",
        "    'content-type': 'application/x-www-form-urlencoded',\n",
        "    'Cookie': 'PHPSESSID=fnffo1ivhvt0ouo6ebqn86a0d4'\n",
        "}\n",
        "c = {'data': '4265a9c353cd8624fd2bc7b5d75d2f18b1b5e66ccd37e2dfa628bcb8f73db2f14ba98bc6a1d8d0d1c7ff1ef0823b11264d0addaba2bd6a30bdefe06f4ba994ed'}\n",
        "d = b'65151f8d966bf596'\n",
        "e = b'88ca0f0ea1ecf975'\n",
        "\n",
        "def f(g, d, e):\n",
        "    h = pyaes.AESModeOfOperationCBC(d, iv=e)\n",
        "    i = b''.join(h.decrypt(g[j:j+16]) for j in range(0, len(g), 16))\n",
        "    return i[:-i[-1]]\n",
        "\n",
        "j = requests.post(a, headers=b, data=c)\n",
        "\n",
        "if j.status_code == 200:\n",
        "    k = j.text.strip()\n",
        "    l = binascii.unhexlify(k)\n",
        "    m = f(l, d, e)\n",
        "    n = json.loads(m)\n",
        "    for o in n['data']:\n",
        "        p = f\"aes-256-cfb:{o['password']}@{o['ip']}:{o['port']}\"\n",
        "        q = base64.b64encode(p.encode('utf-8')).decode('utf-8')\n",
        "        r = f\"ss://{q}#{o['title']}\"\n",
        "        print(r)"
      ]
    }
  ],
  "metadata": {
    "colab": {
      "provenance": [],
      "mount_file_id": "1_BTuzArTO7lBWS2W-X2g8NFV3nkDh5LO",
      "authorship_tag": "ABX9TyM38np6rWxf08UZ6u/nYd59",
      "include_colab_link": true
    },
    "kernelspec": {
      "display_name": "Python 3",
      "name": "python3"
    },
    "language_info": {
      "name": "python"
    }
  },
  "nbformat": 4,
  "nbformat_minor": 0
}